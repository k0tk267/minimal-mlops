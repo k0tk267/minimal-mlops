{
 "cells": [
  {
   "cell_type": "code",
   "execution_count": null,
   "metadata": {},
   "outputs": [],
   "source": [
    "from datetime import datetime, timedelta,timezone\n",
    "from src.lib import set_seed\n",
    "from dotenv import load_dotenv\n",
    "import os"
   ]
  },
  {
   "cell_type": "code",
   "execution_count": null,
   "metadata": {
    "tags": [
     "parameters"
    ]
   },
   "outputs": [],
   "source": [
    "MAX_TOKEN_LENGTH = 512\n",
    "BATCH_SIZE_TRAIN = 32\n",
    "BATCH_SIZE_VALID =32\n",
    "BATCH_SIZE_TEST = 32\n",
    "EPOCHS = 10000\n",
    "PATIENCE = 100\n",
    "GPU_NUM = 0\n",
    "TIME_STAMP = \"1970-01-01T00:00:00\""
   ]
  },
  {
   "cell_type": "code",
   "execution_count": null,
   "metadata": {},
   "outputs": [],
   "source": [
    "JST = timezone(timedelta(hours=+9), 'JST')\n",
    "start_time = datetime.now(JST)"
   ]
  },
  {
   "cell_type": "code",
   "execution_count": null,
   "metadata": {},
   "outputs": [],
   "source": [
    "load_dotenv()\n",
    "PROJECT_PATH=os.environ[\"PROJECT_PATH\"]\n",
    "set_seed(42)"
   ]
  },
  {
   "cell_type": "code",
   "execution_count": null,
   "metadata": {},
   "outputs": [],
   "source": [
    "end_time = datetime.now(JST)\n",
    "print(f\"Start Time: {start_time}\")\n",
    "print(f\"End Time: {end_time}\")\n",
    "print(f\"Execution Time: {end_time - start_time}\")"
   ]
  }
 ],
 "metadata": {
  "kernelspec": {
   "display_name": ".venv",
   "language": "python",
   "name": "python3"
  },
  "language_info": {
   "codemirror_mode": {
    "name": "ipython",
    "version": 3
   },
   "file_extension": ".py",
   "mimetype": "text/x-python",
   "name": "python",
   "nbconvert_exporter": "python",
   "pygments_lexer": "ipython3",
   "version": "3.8.9"
  },
  "orig_nbformat": 4,
  "vscode": {
   "interpreter": {
    "hash": "454925ec9d729e3f056cd8b31cd7a2e9b1cc831d3cbeec43a3f15f7ae62669de"
   }
  }
 },
 "nbformat": 4,
 "nbformat_minor": 2
}
