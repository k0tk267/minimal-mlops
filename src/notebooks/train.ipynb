{
 "cells": [
  {
   "cell_type": "code",
   "execution_count": null,
   "metadata": {
    "tags": [
     "parameters"
    ]
   },
   "outputs": [],
   "source": [
    "BATCH_SIZE = 8\n",
    "EPOCHS = 1000"
   ]
  },
  {
   "cell_type": "code",
   "execution_count": null,
   "metadata": {},
   "outputs": [],
   "source": [
    "print(f\"BATCH_SIZE: {BATCH_SIZE}\")\n",
    "print(f\"EPOCHS: {EPOCHS}\")"
   ]
  }
 ],
 "metadata": {
  "kernelspec": {
   "display_name": ".venv",
   "language": "python",
   "name": "python3"
  },
  "language_info": {
   "name": "python",
   "version": "3.8.9 (default, Sep 30 2022, 20:32:19) \n[GCC 11.2.0]"
  },
  "orig_nbformat": 4,
  "vscode": {
   "interpreter": {
    "hash": "454925ec9d729e3f056cd8b31cd7a2e9b1cc831d3cbeec43a3f15f7ae62669de"
   }
  }
 },
 "nbformat": 4,
 "nbformat_minor": 2
}
